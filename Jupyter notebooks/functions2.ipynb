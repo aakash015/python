{
 "cells": [
  {
   "cell_type": "code",
   "execution_count": 8,
   "metadata": {},
   "outputs": [
    {
     "name": "stdout",
     "output_type": "stream",
     "text": [
      "1\n",
      "(2, 2, 34, 4)\n"
     ]
    }
   ],
   "source": [
    "def func(nm,*args):\n",
    "    print(nm)\n",
    "    return args\n",
    "\n",
    "print(func(1,2,2,34,4))    "
   ]
  },
  {
   "cell_type": "code",
   "execution_count": 9,
   "metadata": {},
   "outputs": [
    {
     "name": "stdout",
     "output_type": "stream",
     "text": [
      "(1, 2, 3, 4, 5, 6)\n"
     ]
    }
   ],
   "source": [
    "def func(*args):\n",
    "  print(args) #it is a tuple\n",
    "\n",
    "func(1,2,3,4,5,6)  "
   ]
  },
  {
   "cell_type": "code",
   "execution_count": 10,
   "metadata": {},
   "outputs": [
    {
     "name": "stdout",
     "output_type": "stream",
     "text": [
      "{'a': 4, 'b': [2, 3, 4, 5]}\n"
     ]
    }
   ],
   "source": [
    "#passing values as key value pairs\n",
    "\n",
    "def func2(**kwargs):\n",
    "  print(kwargs) \n",
    "\n",
    "func2(a=int(input(\"enter a number\")),b=[2,3,4,5])\n"
   ]
  },
  {
   "cell_type": "code",
   "execution_count": 11,
   "metadata": {},
   "outputs": [
    {
     "name": "stdout",
     "output_type": "stream",
     "text": [
      "[5, 6, 7, 7, 8]\n"
     ]
    }
   ],
   "source": [
    "l = [4,5,6,7,7,8]\n",
    "\n",
    "l1 = [i for i in l if i>4]\n",
    "\n",
    "print(l1)"
   ]
  },
  {
   "cell_type": "code",
   "execution_count": 12,
   "metadata": {},
   "outputs": [
    {
     "data": {
      "text/plain": [
       "['a', 1, 2, 3]"
      ]
     },
     "execution_count": 12,
     "metadata": {},
     "output_type": "execute_result"
    }
   ],
   "source": [
    "def func3(a):\n",
    "   return [i for i in a if i !=\"sonia\"]\n",
    "\n",
    "func3([\"a\",1,2,3,\"sonia\"])"
   ]
  },
  {
   "cell_type": "code",
   "execution_count": 13,
   "metadata": {},
   "outputs": [
    {
     "name": "stdout",
     "output_type": "stream",
     "text": [
      "140733511885896\n",
      "140733511885736\n",
      "5\n",
      "140733511885896\n"
     ]
    }
   ],
   "source": [
    "c = 10\n",
    "\n",
    "def func4(c):\n",
    "  print(id(c))\n",
    "  c = 5\n",
    "  print(id(c))\n",
    "  print(c)\n",
    "\n",
    "func4(c)\n",
    "print(id(c))\n"
   ]
  },
  {
   "attachments": {},
   "cell_type": "markdown",
   "metadata": {},
   "source": [
    "**Program below tells that if an immutable object is passed in the python function \n",
    "then the function will behave like call by value like string and integers are immutable in python\n",
    "but when we pass mutable objects then these act as mutable object**"
   ]
  },
  {
   "cell_type": "code",
   "execution_count": 1,
   "metadata": {},
   "outputs": [
    {
     "name": "stdout",
     "output_type": "stream",
     "text": [
      "2093665186480\n",
      "2093665189168\n",
      "hi i am aakash\n",
      "2093665263680\n",
      "2093665263680\n",
      "[1, 2, 3, 5, 6, 7, 4]\n",
      "[1, 2, 3, 5, 6, 7, 4]\n"
     ]
    }
   ],
   "source": [
    "def func5(str):\n",
    "  print(id(str))\n",
    "  str = str.replace(\"aakash\",\"don\")\n",
    "  print(id(str))\n",
    "\n",
    "str = \"hi i am aakash\"\n",
    "\n",
    "func5(str)\n",
    "print(str)\n",
    "\n",
    "\n",
    "def func6(l):\n",
    "  print(id(l))\n",
    "  l.append(4)\n",
    "  print(id(l))\n",
    "  print(l)\n",
    "\n",
    "l = [1,2,3,5,6,7]\n",
    "func6(l)\n",
    "print(l)"
   ]
  },
  {
   "cell_type": "code",
   "execution_count": 2,
   "metadata": {},
   "outputs": [
    {
     "name": "stdout",
     "output_type": "stream",
     "text": [
      "{5: 7, 6: 8, 7: 9}\n"
     ]
    }
   ],
   "source": [
    "d1 = {i:i+2 for i in l if i>4}\n",
    "print(d1)"
   ]
  },
  {
   "attachments": {},
   "cell_type": "markdown",
   "metadata": {},
   "source": [
    "**This will produce an error because a is not iterable**\n",
    "\n",
    "a = 56\n",
    "for i in a:\n",
    "  print(i)\n",
    "\n"
   ]
  }
 ],
 "metadata": {
  "kernelspec": {
   "display_name": "Python 3",
   "language": "python",
   "name": "python3"
  },
  "language_info": {
   "codemirror_mode": {
    "name": "ipython",
    "version": 3
   },
   "file_extension": ".py",
   "mimetype": "text/x-python",
   "name": "python",
   "nbconvert_exporter": "python",
   "pygments_lexer": "ipython3",
   "version": "3.11.1"
  },
  "orig_nbformat": 4,
  "vscode": {
   "interpreter": {
    "hash": "72b2382ece9768098284d92bbc69d35954e75b60d1e25897d1389c232f4796f0"
   }
  }
 },
 "nbformat": 4,
 "nbformat_minor": 2
}
