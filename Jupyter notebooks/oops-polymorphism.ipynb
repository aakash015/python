{
 "cells": [
  {
   "cell_type": "code",
   "execution_count": 4,
   "metadata": {},
   "outputs": [
    {
     "name": "stdout",
     "output_type": "stream",
     "text": [
      "i love s\n"
     ]
    }
   ],
   "source": [
    "class A:\n",
    "  \n",
    "  def __init__(self,name=\"s\") -> None:\n",
    "    self.love = name\n",
    "  \n",
    "  def izhaar(self):\n",
    "    print(f\"i love {self.love}\")\n",
    "\n",
    "  def hello():\n",
    "    print(\"hello from A\")\n",
    "\n",
    "class B(A):\n",
    "  def hello():\n",
    "    print(\"hello from B\")\n",
    "\n",
    "class C(B):\n",
    "  def hello():\n",
    "    print(\"hello from C\")\n",
    "\n",
    " \n",
    "s = C()\n",
    "\n",
    "s.izhaar()\n"
   ]
  }
 ],
 "metadata": {
  "kernelspec": {
   "display_name": "Python 3",
   "language": "python",
   "name": "python3"
  },
  "language_info": {
   "codemirror_mode": {
    "name": "ipython",
    "version": 3
   },
   "file_extension": ".py",
   "mimetype": "text/x-python",
   "name": "python",
   "nbconvert_exporter": "python",
   "pygments_lexer": "ipython3",
   "version": "3.11.1"
  },
  "orig_nbformat": 4,
  "vscode": {
   "interpreter": {
    "hash": "72b2382ece9768098284d92bbc69d35954e75b60d1e25897d1389c232f4796f0"
   }
  }
 },
 "nbformat": 4,
 "nbformat_minor": 2
}
