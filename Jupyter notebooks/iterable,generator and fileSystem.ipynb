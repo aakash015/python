{
 "cells": [
  {
   "attachments": {},
   "cell_type": "markdown",
   "metadata": {},
   "source": [
    "Iterable is an object, that one can iterate over. It generates an Iterator when passed to iter() method. An iterator is an object, which is used to iterate over an iterable object using the __next__() method. Iterators have the __next__() method, which returns the next item of the object."
   ]
  },
  {
   "cell_type": "code",
   "execution_count": 13,
   "metadata": {},
   "outputs": [
    {
     "name": "stdout",
     "output_type": "stream",
     "text": [
      "A\n",
      "a\n",
      "k\n",
      "a\n",
      "s\n",
      "h\n",
      "an exception occured\n"
     ]
    }
   ],
   "source": [
    "str = \"Aakash\"\n",
    "\n",
    "string_iterator = iter(str);\n",
    "\n",
    "print(next(string_iterator))\n",
    "print(next(string_iterator))\n",
    "print(next(string_iterator))\n",
    "print(next(string_iterator))\n",
    "print(next(string_iterator))\n",
    "print(next(string_iterator))\n",
    "\n",
    "try: \n",
    " print(next(string_iterator)) #stop iteration exception will be called\n",
    "except:\n",
    "  print(\"an exception occured\")\n",
    "\n",
    "\n"
   ]
  },
  {
   "cell_type": "code",
   "execution_count": 14,
   "metadata": {},
   "outputs": [
    {
     "name": "stdout",
     "output_type": "stream",
     "text": [
      "[0, 1, 8, 27]\n",
      "2\n",
      "3\n",
      "10\n",
      "29\n"
     ]
    }
   ],
   "source": [
    "#suppose we have to generate cubes of the number from 0-9 and return them\n",
    "\n",
    "def cuber(n):\n",
    "  l = []\n",
    "  for i in range(n+1):\n",
    "    l.append(i**3)\n",
    "  return l\n",
    "\n",
    "l = cuber(3)\n",
    "print(l)\n",
    "\n",
    "#but jab hum ise bade number pe chalayenge to pehle ye list banayegi poori fir jaake humein return kregi \n",
    "#isse kya hoga cpu consumption and ram consumption dono badh jayenge aur time bhi bahut jyada lagega\n",
    "#ab aisa krne ka try krna hai ki wo poori list generate kre bina ek ek krk numbers ko print krta jaaye \n",
    "#to ab hum log print function ka bhi use kr skte the par usmein ye dikkat aayegi ki saalon ko sirf print kr skte hai\n",
    "#else other koi operations nahi kr skte to ab yahan pe generator functions and yeild operator kaam aayega\n",
    "\n",
    "\n",
    "def cuber_gen(n):\n",
    "   for i in range(n+1):\n",
    "     yield i**3\n",
    "\n",
    "\n",
    "for i in cuber_gen(3):\n",
    "  print(i+2)\n",
    "       \n",
    "\n"
   ]
  },
  {
   "cell_type": "code",
   "execution_count": 17,
   "metadata": {},
   "outputs": [],
   "source": [
    "f = open('t2.txt','w')\n",
    "f.write(\"hey there , Aakash this side\")\n",
    "f.close()\n",
    "f = open('t2.txt','r')\n",
    "f.read()\n",
    "f.close()"
   ]
  },
  {
   "cell_type": "code",
   "execution_count": 31,
   "metadata": {},
   "outputs": [
    {
     "data": {
      "text/plain": [
       "'hey there , Aakash this side'"
      ]
     },
     "execution_count": 31,
     "metadata": {},
     "output_type": "execute_result"
    }
   ],
   "source": [
    "f = open('t2.txt','r')\n",
    "f.read()\n"
   ]
  },
  {
   "cell_type": "code",
   "execution_count": 32,
   "metadata": {},
   "outputs": [
    {
     "data": {
      "text/plain": [
       "''"
      ]
     },
     "execution_count": 32,
     "metadata": {},
     "output_type": "execute_result"
    }
   ],
   "source": [
    "f.read()"
   ]
  },
  {
   "cell_type": "code",
   "execution_count": 33,
   "metadata": {},
   "outputs": [
    {
     "data": {
      "text/plain": [
       "''"
      ]
     },
     "execution_count": 33,
     "metadata": {},
     "output_type": "execute_result"
    }
   ],
   "source": [
    "f.read()"
   ]
  },
  {
   "cell_type": "code",
   "execution_count": 34,
   "metadata": {},
   "outputs": [
    {
     "data": {
      "text/plain": [
       "0"
      ]
     },
     "execution_count": 34,
     "metadata": {},
     "output_type": "execute_result"
    }
   ],
   "source": [
    "f.seek(0)"
   ]
  },
  {
   "cell_type": "code",
   "execution_count": 35,
   "metadata": {},
   "outputs": [
    {
     "data": {
      "text/plain": [
       "'hey there , Aakash this side'"
      ]
     },
     "execution_count": 35,
     "metadata": {},
     "output_type": "execute_result"
    }
   ],
   "source": [
    "f.read()"
   ]
  },
  {
   "cell_type": "code",
   "execution_count": 37,
   "metadata": {},
   "outputs": [
    {
     "data": {
      "text/plain": [
       "28"
      ]
     },
     "execution_count": 37,
     "metadata": {},
     "output_type": "execute_result"
    }
   ],
   "source": [
    "f.tell()"
   ]
  },
  {
   "cell_type": "code",
   "execution_count": 38,
   "metadata": {},
   "outputs": [
    {
     "data": {
      "text/plain": [
       "0"
      ]
     },
     "execution_count": 38,
     "metadata": {},
     "output_type": "execute_result"
    }
   ],
   "source": [
    "f.seek(0)"
   ]
  },
  {
   "cell_type": "code",
   "execution_count": 39,
   "metadata": {},
   "outputs": [
    {
     "data": {
      "text/plain": [
       "'hey there , Aakash this side'"
      ]
     },
     "execution_count": 39,
     "metadata": {},
     "output_type": "execute_result"
    }
   ],
   "source": [
    "f.readline()"
   ]
  },
  {
   "cell_type": "code",
   "execution_count": 40,
   "metadata": {},
   "outputs": [
    {
     "data": {
      "text/plain": [
       "0"
      ]
     },
     "execution_count": 40,
     "metadata": {},
     "output_type": "execute_result"
    }
   ],
   "source": [
    "f.seek(0)"
   ]
  },
  {
   "cell_type": "code",
   "execution_count": 41,
   "metadata": {},
   "outputs": [
    {
     "data": {
      "text/plain": [
       "\"hey there , Aakash this side\\nwdq\\ndq'dqwd\\nwd'w\\nd'w\\ndqwdd\\nwdwqd\\nqwd\\nwdqf;elfe\\nf'q\\n'dqwd;wdd'wdqdwd\\nwd\\ndqwdd;wd\""
      ]
     },
     "execution_count": 41,
     "metadata": {},
     "output_type": "execute_result"
    }
   ],
   "source": [
    "f.read()"
   ]
  },
  {
   "cell_type": "code",
   "execution_count": 42,
   "metadata": {},
   "outputs": [
    {
     "data": {
      "text/plain": [
       "0"
      ]
     },
     "execution_count": 42,
     "metadata": {},
     "output_type": "execute_result"
    }
   ],
   "source": [
    "f.seek(0)"
   ]
  },
  {
   "cell_type": "code",
   "execution_count": 57,
   "metadata": {},
   "outputs": [
    {
     "data": {
      "text/plain": [
       "''"
      ]
     },
     "execution_count": 57,
     "metadata": {},
     "output_type": "execute_result"
    }
   ],
   "source": [
    "f.readline()  #ye ek ek krk line by line output deta hai "
   ]
  },
  {
   "cell_type": "code",
   "execution_count": 58,
   "metadata": {},
   "outputs": [],
   "source": [
    "f.close()"
   ]
  },
  {
   "cell_type": "code",
   "execution_count": 59,
   "metadata": {},
   "outputs": [
    {
     "name": "stdout",
     "output_type": "stream",
     "text": [
      "<_io.TextIOWrapper name='t2.txt' mode='r+' encoding='cp1252'>\n"
     ]
    }
   ],
   "source": [
    "f = open('t2.txt','r+')\n",
    "print(f)"
   ]
  },
  {
   "cell_type": "code",
   "execution_count": 66,
   "metadata": {},
   "outputs": [
    {
     "name": "stdout",
     "output_type": "stream",
     "text": [
      "hey there , Aakash this side\n",
      "wdq\n",
      "dq'dqwd\n",
      "wd'w\n",
      "d'w\n",
      "dqwdd\n",
      "wdwqd\n",
      "qwd\n",
      "wdqf;elfe\n",
      "f'q\n",
      "'dqwd;wdd'wdqdwd\n",
      "wd\n",
      "dqwdd;wd"
     ]
    }
   ],
   "source": [
    "f.seek(0)\n",
    "for i in f:\n",
    "  print(i,end=\"\")"
   ]
  },
  {
   "cell_type": "code",
   "execution_count": 67,
   "metadata": {},
   "outputs": [
    {
     "data": {
      "text/plain": [
       "0"
      ]
     },
     "execution_count": 67,
     "metadata": {},
     "output_type": "execute_result"
    }
   ],
   "source": [
    "f.seek(0)"
   ]
  },
  {
   "cell_type": "code",
   "execution_count": 70,
   "metadata": {},
   "outputs": [
    {
     "name": "stdout",
     "output_type": "stream",
     "text": [
      "13\n"
     ]
    }
   ],
   "source": [
    "f.seek(0)\n",
    "l = f.readlines()\n",
    "print(len(l))"
   ]
  },
  {
   "cell_type": "code",
   "execution_count": 74,
   "metadata": {},
   "outputs": [],
   "source": [
    "import os\n",
    "\n",
    "# os.remove('t.txt') #delete kr deta hai ye file"
   ]
  }
 ],
 "metadata": {
  "kernelspec": {
   "display_name": "Python 3",
   "language": "python",
   "name": "python3"
  },
  "language_info": {
   "codemirror_mode": {
    "name": "ipython",
    "version": 3
   },
   "file_extension": ".py",
   "mimetype": "text/x-python",
   "name": "python",
   "nbconvert_exporter": "python",
   "pygments_lexer": "ipython3",
   "version": "3.11.1"
  },
  "orig_nbformat": 4,
  "vscode": {
   "interpreter": {
    "hash": "72b2382ece9768098284d92bbc69d35954e75b60d1e25897d1389c232f4796f0"
   }
  }
 },
 "nbformat": 4,
 "nbformat_minor": 2
}
